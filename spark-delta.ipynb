{
 "cells": [
  {
   "cell_type": "code",
   "execution_count": 1,
   "id": "9ec37677-c92c-499f-a036-7bad0169ec5a",
   "metadata": {},
   "outputs": [],
   "source": [
    "from pyspark.sql import SparkSession\n",
    "from pyspark.sql.types import *\n",
    "from pyspark.sql.functions import *"
   ]
  },
  {
   "cell_type": "code",
   "execution_count": 2,
   "id": "35e0bfd8-ae42-4000-8514-c9fc00221b2b",
   "metadata": {},
   "outputs": [],
   "source": [
    "spark = (SparkSession\n",
    "         .builder\n",
    "         .appName(\"sf-fire-call\")\n",
    "         .config(\"spark.jars.packages\",\"io.delta:delta-core_2.12:2.1.0,org.apache.hadoop:hadoop-aws:3.3.1,org.apache.hadoop:hadoop-common:3.3.1,com.amazonaws:aws-java-sdk-s3:1.12.350\")\n",
    "         .config(\"spark.sql.extensions\",\"io.delta.sql.DeltaSparkSessionExtension\")\n",
    "         .config(\"spark.sql.catalog.spark_catalog\",\"org.apache.spark.sql.delta.catalog.DeltaCatalog\")\n",
    "         .config(\"spark.jars.ivy\", \"/tmp/ivy\")\n",
    "         .config(\"spark.jars.repositories\", \"https://repo1.maven.org/maven2/\")\n",
    "         .getOrCreate())"
   ]
  },
  {
   "cell_type": "code",
   "execution_count": 3,
   "id": "24fd02a6-067d-4ab2-8b98-215bdcb1ccbe",
   "metadata": {},
   "outputs": [],
   "source": [
    "spark._jsc.hadoopConfiguration().set(\"fs.s3a.access.key\", \"AWS_ACCESS_KEY\")\n",
    "spark._jsc.hadoopConfiguration().set(\"fs.s3a.secret.key\", \"AWS_SECRET_KEY\")\n",
    "spark._jsc.hadoopConfiguration().set(\"fs.s3a.impl\", \"org.apache.hadoop.fs.s3a.S3AFileSystem\")\n",
    "spark._jsc.hadoopConfiguration().set(\"fs.s3a.aws.credentials.provider\", \"org.apache.hadoop.fs.s3a.SimpleAWSCredentialsProvider\")"
   ]
  },
  {
   "cell_type": "code",
   "execution_count": 4,
   "id": "c827792f-b740-4bec-b2a5-7be82bfaedfc",
   "metadata": {},
   "outputs": [],
   "source": [
    "fire_schema = StructType([StructField(\"CallNumber\", IntegerType(), True),\n",
    "                   StructField(\"UnitID\", StringType(), True),\n",
    "                   StructField(\"IncidentNumber\", IntegerType(), True),\n",
    "                   StructField(\"CallType\", StringType(), True),\n",
    "                   StructField(\"CallDate\", StringType(), True),\n",
    "                   StructField(\"WatchDate\", StringType(), True),\n",
    "                   StructField(\"ReceivedDtTm\", StringType(), True),\n",
    "                   StructField(\"EntryDtTm\", StringType(), True),\n",
    "                   StructField(\"DispatchDtTm\", StringType(), True),\n",
    "                   StructField(\"ResponseDtTm\", StringType(), True),\n",
    "                   StructField(\"OnSceneDtTm\", StringType(), True),\n",
    "                   StructField(\"TransportDtTm\", StringType(), True),\n",
    "                   StructField(\"HospitalDtTm\", StringType(), True),\n",
    "                   StructField(\"CallFinalDisposition\", StringType(), True),\n",
    "                   StructField(\"AvailableDtTm\", StringType(), True),\n",
    "                   StructField(\"Address\", StringType(), True),\n",
    "                   StructField(\"City\", StringType(), True),\n",
    "                   StructField(\"ZipcodeofIncident\", IntegerType(), True),\n",
    "                   StructField(\"Battalion\", StringType(), True),\n",
    "                   StructField(\"StationArea\", StringType(), True),\n",
    "                   StructField(\"Box\", IntegerType(), True),\n",
    "                   StructField(\"OriginalPriority\", IntegerType(), True),\n",
    "                   StructField(\"Priority\", IntegerType(), True),\n",
    "                   StructField(\"FinalPriority\", IntegerType(), True),\n",
    "                   StructField(\"ALSUnit\", StringType(), True),\n",
    "                   StructField(\"CallTypeGroup\", StringType(), True),\n",
    "                   StructField(\"NumberofAlarms\", IntegerType(), True),\n",
    "                   StructField(\"UnitType\", StringType(), True),\n",
    "                   StructField(\"Unitsequenceincalldispatch\", IntegerType(), True),\n",
    "                   StructField(\"FirePreventionDistrict\", IntegerType(), True),\n",
    "                   StructField(\"SupervisorDistrict\", IntegerType(), True),\n",
    "                   StructField(\"NeighborhooodsAnalysisBoundaries\", StringType(), True),\n",
    "                   StructField(\"RowID\", StringType(), True),\n",
    "                   StructField(\"case_location\", StringType(), True),\n",
    "                   StructField(\"AnalysisNeighborhoods\", IntegerType(), True),\n",
    "                  ])"
   ]
  },
  {
   "cell_type": "code",
   "execution_count": 5,
   "id": "88343a06-05e2-4899-baaa-fa6bc46adfbe",
   "metadata": {},
   "outputs": [],
   "source": [
    "df = spark.read.csv(\"./Fire_Department_Calls_for_Service.csv\", header=True, schema=fire_schema)"
   ]
  },
  {
   "cell_type": "code",
   "execution_count": 6,
   "id": "67cef7a3-29f1-4178-873a-772f5d2f16e1",
   "metadata": {},
   "outputs": [
    {
     "name": "stdout",
     "output_type": "stream",
     "text": [
      "root\n",
      " |-- CallNumber: integer (nullable = true)\n",
      " |-- UnitID: string (nullable = true)\n",
      " |-- IncidentNumber: integer (nullable = true)\n",
      " |-- CallType: string (nullable = true)\n",
      " |-- CallDate: string (nullable = true)\n",
      " |-- WatchDate: string (nullable = true)\n",
      " |-- ReceivedDtTm: string (nullable = true)\n",
      " |-- EntryDtTm: string (nullable = true)\n",
      " |-- DispatchDtTm: string (nullable = true)\n",
      " |-- ResponseDtTm: string (nullable = true)\n",
      " |-- OnSceneDtTm: string (nullable = true)\n",
      " |-- TransportDtTm: string (nullable = true)\n",
      " |-- HospitalDtTm: string (nullable = true)\n",
      " |-- CallFinalDisposition: string (nullable = true)\n",
      " |-- AvailableDtTm: string (nullable = true)\n",
      " |-- Address: string (nullable = true)\n",
      " |-- City: string (nullable = true)\n",
      " |-- ZipcodeofIncident: integer (nullable = true)\n",
      " |-- Battalion: string (nullable = true)\n",
      " |-- StationArea: string (nullable = true)\n",
      " |-- Box: integer (nullable = true)\n",
      " |-- OriginalPriority: integer (nullable = true)\n",
      " |-- Priority: integer (nullable = true)\n",
      " |-- FinalPriority: integer (nullable = true)\n",
      " |-- ALSUnit: string (nullable = true)\n",
      " |-- CallTypeGroup: string (nullable = true)\n",
      " |-- NumberofAlarms: integer (nullable = true)\n",
      " |-- UnitType: string (nullable = true)\n",
      " |-- Unitsequenceincalldispatch: integer (nullable = true)\n",
      " |-- FirePreventionDistrict: integer (nullable = true)\n",
      " |-- SupervisorDistrict: integer (nullable = true)\n",
      " |-- NeighborhooodsAnalysisBoundaries: string (nullable = true)\n",
      " |-- RowID: string (nullable = true)\n",
      " |-- case_location: string (nullable = true)\n",
      " |-- AnalysisNeighborhoods: integer (nullable = true)\n",
      "\n"
     ]
    }
   ],
   "source": [
    "df.printSchema()"
   ]
  },
  {
   "cell_type": "code",
   "execution_count": 7,
   "id": "a525dff1-ae0b-49cb-aa9d-d1400d5ffa27",
   "metadata": {},
   "outputs": [],
   "source": [
    "df_dates = (df.withColumn(\"IncidentDate\", to_timestamp(col(\"CallDate\"), \"MM/dd/yyyy\")).drop(\"CallDate\")\n",
    "    .withColumn(\"OnWatchDate\", to_timestamp(col(\"WatchDate\"), \"MM/dd/yyyy\")).drop(\"WatchDate\")\n",
    "    .withColumn(\"ReceivedDtTS\", to_timestamp(col(\"ReceivedDtTm\"), \"MM/dd/yyyy hh:mm:ss a\")).drop(\"ReceivedDtTm\")\n",
    "    .withColumn(\"DispatchDtTS\", to_timestamp(col(\"DispatchDtTm\"), \"MM/dd/yyyy hh:mm:ss a\")).drop(\"DispatchDtTm\")\n",
    "    .withColumn(\"ResponseDtTS\", to_timestamp(col(\"ResponseDtTm\"), \"MM/dd/yyyy hh:mm:ss a\")).drop(\"ResponseDtTm\")\n",
    "    .withColumn(\"OnSceneDtTS\", to_timestamp(col(\"OnSceneDtTm\"), \"MM/dd/yyyy hh:mm:ss a\")).drop(\"OnSceneDtTm\")\n",
    ")"
   ]
  },
  {
   "cell_type": "code",
   "execution_count": 8,
   "id": "e1d99188-6c99-4c54-84dc-7ad973807121",
   "metadata": {},
   "outputs": [
    {
     "name": "stdout",
     "output_type": "stream",
     "text": [
      "root\n",
      " |-- CallNumber: integer (nullable = true)\n",
      " |-- UnitID: string (nullable = true)\n",
      " |-- IncidentNumber: integer (nullable = true)\n",
      " |-- CallType: string (nullable = true)\n",
      " |-- EntryDtTm: string (nullable = true)\n",
      " |-- TransportDtTm: string (nullable = true)\n",
      " |-- HospitalDtTm: string (nullable = true)\n",
      " |-- CallFinalDisposition: string (nullable = true)\n",
      " |-- AvailableDtTm: string (nullable = true)\n",
      " |-- Address: string (nullable = true)\n",
      " |-- City: string (nullable = true)\n",
      " |-- ZipcodeofIncident: integer (nullable = true)\n",
      " |-- Battalion: string (nullable = true)\n",
      " |-- StationArea: string (nullable = true)\n",
      " |-- Box: integer (nullable = true)\n",
      " |-- OriginalPriority: integer (nullable = true)\n",
      " |-- Priority: integer (nullable = true)\n",
      " |-- FinalPriority: integer (nullable = true)\n",
      " |-- ALSUnit: string (nullable = true)\n",
      " |-- CallTypeGroup: string (nullable = true)\n",
      " |-- NumberofAlarms: integer (nullable = true)\n",
      " |-- UnitType: string (nullable = true)\n",
      " |-- Unitsequenceincalldispatch: integer (nullable = true)\n",
      " |-- FirePreventionDistrict: integer (nullable = true)\n",
      " |-- SupervisorDistrict: integer (nullable = true)\n",
      " |-- NeighborhooodsAnalysisBoundaries: string (nullable = true)\n",
      " |-- RowID: string (nullable = true)\n",
      " |-- case_location: string (nullable = true)\n",
      " |-- AnalysisNeighborhoods: integer (nullable = true)\n",
      " |-- IncidentDate: timestamp (nullable = true)\n",
      " |-- OnWatchDate: timestamp (nullable = true)\n",
      " |-- ReceivedDtTS: timestamp (nullable = true)\n",
      " |-- DispatchDtTS: timestamp (nullable = true)\n",
      " |-- ResponseDtTS: timestamp (nullable = true)\n",
      " |-- OnSceneDtTS: timestamp (nullable = true)\n",
      "\n"
     ]
    }
   ],
   "source": [
    "df_dates.printSchema()"
   ]
  },
  {
   "cell_type": "code",
   "execution_count": 9,
   "id": "f122cff0-2f9e-4cbe-a306-13d87f9801fc",
   "metadata": {},
   "outputs": [],
   "source": [
    "df1 = df_dates.select(\"CallNumber\", \"UnitID\", \"IncidentNumber\", \"CallType\", \"IncidentDate\", \"ReceivedDtTS\", \"OnSceneDtTS\", \"Address\", \"City\", \"ZipcodeofIncident\", \"StationArea\")\n",
    "df1_less = df1.select(\"*\").where((col(\"IncidentDate\") >= \"2019-01-01\") & (col(\"IncidentDate\") <= \"2020-12-31\"))"
   ]
  },
  {
   "cell_type": "code",
   "execution_count": 10,
   "id": "bfc607b2-2329-4273-b1ac-a95b3f6ff1de",
   "metadata": {},
   "outputs": [
    {
     "name": "stdout",
     "output_type": "stream",
     "text": [
      "+-------------------+\n",
      "|  min(IncidentDate)|\n",
      "+-------------------+\n",
      "|2019-01-01 00:00:00|\n",
      "+-------------------+\n",
      "\n",
      "+-------------------+\n",
      "|  max(IncidentDate)|\n",
      "+-------------------+\n",
      "|2020-12-31 00:00:00|\n",
      "+-------------------+\n",
      "\n"
     ]
    }
   ],
   "source": [
    "df1_less.select(min(\"IncidentDate\")).show()\n",
    "df1_less.select(max(\"IncidentDate\")).show()"
   ]
  },
  {
   "cell_type": "code",
   "execution_count": 11,
   "id": "612595ac-033f-404a-a175-d4b0651d16bd",
   "metadata": {},
   "outputs": [
    {
     "name": "stdout",
     "output_type": "stream",
     "text": [
      "root\n",
      " |-- CallNumber: integer (nullable = true)\n",
      " |-- UnitID: string (nullable = true)\n",
      " |-- IncidentNumber: integer (nullable = true)\n",
      " |-- CallType: string (nullable = true)\n",
      " |-- IncidentDate: timestamp (nullable = true)\n",
      " |-- ReceivedDtTS: timestamp (nullable = true)\n",
      " |-- OnSceneDtTS: timestamp (nullable = true)\n",
      " |-- Address: string (nullable = true)\n",
      " |-- City: string (nullable = true)\n",
      " |-- ZipcodeofIncident: integer (nullable = true)\n",
      " |-- StationArea: string (nullable = true)\n",
      "\n"
     ]
    }
   ],
   "source": [
    "df1.printSchema()"
   ]
  },
  {
   "cell_type": "code",
   "execution_count": 12,
   "id": "f294138e-f90c-46e2-ab1a-6954af0585bb",
   "metadata": {},
   "outputs": [],
   "source": [
    "df2 = df_dates.select(\"CallNumber\", \"UnitID\", \"IncidentNumber\", \"CallType\", \"IncidentDate\", \"OnWatchDate\", \"ReceivedDtTS\", \"DispatchDtTS\", \"ResponseDtTS\", \"OnSceneDtTS\", \"Address\", \"City\", \"ZipcodeofIncident\", \"StationArea\")\n",
    "df2_less = df2.select(\"*\").where((col(\"IncidentDate\") >= \"2021-01-01\"))"
   ]
  },
  {
   "cell_type": "code",
   "execution_count": 13,
   "id": "aed6f144-f957-4b70-9e99-eb39d5ab2cbc",
   "metadata": {},
   "outputs": [
    {
     "name": "stdout",
     "output_type": "stream",
     "text": [
      "+-------------------+\n",
      "|  min(IncidentDate)|\n",
      "+-------------------+\n",
      "|2021-01-01 00:00:00|\n",
      "+-------------------+\n",
      "\n",
      "+-------------------+\n",
      "|  max(IncidentDate)|\n",
      "+-------------------+\n",
      "|2023-02-05 00:00:00|\n",
      "+-------------------+\n",
      "\n"
     ]
    }
   ],
   "source": [
    "df2_less.select(min(\"IncidentDate\")).show()\n",
    "df2_less.select(max(\"IncidentDate\")).show()"
   ]
  },
  {
   "cell_type": "code",
   "execution_count": 24,
   "id": "48cafa56-c02c-46fe-a7bf-0d93caed36f6",
   "metadata": {},
   "outputs": [
    {
     "name": "stdout",
     "output_type": "stream",
     "text": [
      "root\n",
      " |-- CallNumber: integer (nullable = true)\n",
      " |-- UnitID: string (nullable = true)\n",
      " |-- IncidentNumber: integer (nullable = true)\n",
      " |-- CallType: string (nullable = true)\n",
      " |-- IncidentDate: timestamp (nullable = true)\n",
      " |-- OnWatchDate: timestamp (nullable = true)\n",
      " |-- ReceivedDtTS: timestamp (nullable = true)\n",
      " |-- DispatchDtTS: timestamp (nullable = true)\n",
      " |-- ResponseDtTS: timestamp (nullable = true)\n",
      " |-- OnSceneDtTS: timestamp (nullable = true)\n",
      " |-- Address: string (nullable = true)\n",
      " |-- City: string (nullable = true)\n",
      " |-- ZipcodeofIncident: integer (nullable = true)\n",
      " |-- StationArea: string (nullable = true)\n",
      "\n"
     ]
    }
   ],
   "source": [
    "df2_less.printSchema()"
   ]
  },
  {
   "cell_type": "code",
   "execution_count": 15,
   "id": "2f65c895-3095-4001-9d25-3a51165643ea",
   "metadata": {},
   "outputs": [],
   "source": [
    "df1_less.write.format(\"delta\").save(\"./sf-fire-delta\")"
   ]
  },
  {
   "cell_type": "code",
   "execution_count": 16,
   "id": "ac30503b-ff2b-4fe2-a82c-1cfde18bd905",
   "metadata": {},
   "outputs": [],
   "source": [
    "spark.read.format(\"delta\").load(\"./sf-fire-delta\").createOrReplaceTempView(\"sf_fire_delta\")"
   ]
  },
  {
   "cell_type": "code",
   "execution_count": 17,
   "id": "935ff4e5-ad7c-4824-9801-a2837f4da46e",
   "metadata": {},
   "outputs": [
    {
     "name": "stdout",
     "output_type": "stream",
     "text": [
      "+--------+\n",
      "|count(1)|\n",
      "+--------+\n",
      "|  605598|\n",
      "+--------+\n",
      "\n"
     ]
    }
   ],
   "source": [
    "spark.sql(\"select count(*) from sf_fire_delta\").show()"
   ]
  },
  {
   "cell_type": "code",
   "execution_count": 18,
   "id": "f6d5edf3-c0cf-4103-b923-4f5283769d53",
   "metadata": {},
   "outputs": [
    {
     "name": "stdout",
     "output_type": "stream",
     "text": [
      "+----------+------+--------------+----------------+-------------------+-------------------+-------------------+--------------------+-------------+-----------------+-----------+\n",
      "|CallNumber|UnitID|IncidentNumber|        CallType|       IncidentDate|       ReceivedDtTS|        OnSceneDtTS|             Address|         City|ZipcodeofIncident|StationArea|\n",
      "+----------+------+--------------+----------------+-------------------+-------------------+-------------------+--------------------+-------------+-----------------+-----------+\n",
      "| 192750025|  QRV1|      19117988|Medical Incident|2019-10-02 00:00:00|2019-10-02 00:12:01|2019-10-02 00:15:53|1000 Block of MIS...|San Francisco|            94103|         01|\n",
      "+----------+------+--------------+----------------+-------------------+-------------------+-------------------+--------------------+-------------+-----------------+-----------+\n",
      "\n"
     ]
    }
   ],
   "source": [
    "spark.sql(\"select * from sf_fire_delta limit 1\").show()"
   ]
  },
  {
   "cell_type": "code",
   "execution_count": 19,
   "id": "96c0eb04-fa15-4f6a-a8f7-62ace08a2a05",
   "metadata": {},
   "outputs": [],
   "source": [
    "df2_less.write.format(\"delta\").mode(\"append\").option(\"mergeSchema\", \"true\").save(\"./sf-fire-delta\")"
   ]
  },
  {
   "cell_type": "code",
   "execution_count": 29,
   "id": "39ccbcd0-c2e2-4339-8db0-404f01bd9cc7",
   "metadata": {},
   "outputs": [],
   "source": [
    "spark.read.format(\"delta\").load(\"./sf-fire-delta\").createOrReplaceTempView(\"sf_fire_delta\")"
   ]
  },
  {
   "cell_type": "code",
   "execution_count": null,
   "id": "fb65d89e-b92b-45ef-b743-bdbb80d608df",
   "metadata": {},
   "outputs": [],
   "source": [
    "spark.sql(\"select count(*) from sf_fire_delta\").show()"
   ]
  },
  {
   "cell_type": "code",
   "execution_count": 30,
   "id": "0581f76a-f676-4b34-8cac-7ba1d7873274",
   "metadata": {},
   "outputs": [
    {
     "name": "stdout",
     "output_type": "stream",
     "text": [
      "+----------+------+--------------+--------------------+-------------------+-------------------+-------------------+--------------------+-------------+-----------------+-----------+-------------------+-------------------+-------------------+\n",
      "|CallNumber|UnitID|IncidentNumber|            CallType|       IncidentDate|       ReceivedDtTS|        OnSceneDtTS|             Address|         City|ZipcodeofIncident|StationArea|        OnWatchDate|       DispatchDtTS|       ResponseDtTS|\n",
      "+----------+------+--------------+--------------------+-------------------+-------------------+-------------------+--------------------+-------------+-----------------+-----------+-------------------+-------------------+-------------------+\n",
      "| 230360173|   E01|      23017334|   Traffic Collision|2023-02-05 00:00:00|2023-02-05 01:21:20|2023-02-05 01:26:52|    TURK ST/MASON ST|San Francisco|            94103|         01|2023-02-04 00:00:00|2023-02-05 01:21:48|2023-02-05 01:24:03|\n",
      "| 230360341|   E33|      23017363|Train / Rail Inci...|2023-02-05 00:00:00|2023-02-05 02:42:54|2023-02-05 02:45:28|200 Block of MARK...|San Francisco|            94105|         13|2023-02-04 00:00:00|2023-02-05 02:45:28|2023-02-05 02:45:28|\n",
      "| 230360243|    63|      23017346|    Medical Incident|2023-02-05 00:00:00|2023-02-05 01:50:35|2023-02-05 02:55:03|1200 Block of MAR...|San Francisco|            94103|         36|2023-02-04 00:00:00|2023-02-05 02:36:33|2023-02-05 02:36:37|\n",
      "| 230360247|   E38|      23017348|    Medical Incident|2023-02-05 00:00:00|2023-02-05 01:53:31|2023-02-05 02:01:06|2300 Block of PAC...|San Francisco|            94115|         38|2023-02-04 00:00:00|2023-02-05 01:56:13|2023-02-05 01:59:18|\n",
      "| 230360087|    87|      23017318|    Medical Incident|2023-02-05 00:00:00|2023-02-05 00:47:15|2023-02-05 01:05:21|4400 Block of IRV...|San Francisco|            94122|         23|2023-02-04 00:00:00|2023-02-05 00:49:55|2023-02-05 00:49:59|\n",
      "| 230360254| AM217|      23017350|    Medical Incident|2023-02-05 00:00:00|2023-02-05 01:58:07|2023-02-05 02:14:50|100 Block of DORE ST|San Francisco|            94103|         36|2023-02-04 00:00:00|2023-02-05 02:00:14|2023-02-05 02:01:13|\n",
      "| 230360039|    66|      23017313|    Medical Incident|2023-02-05 00:00:00|2023-02-05 00:20:25|2023-02-05 00:25:26|1000 Block of POS...|San Francisco|            94109|         03|2023-02-04 00:00:00|2023-02-05 00:21:31|2023-02-05 00:21:37|\n",
      "| 230360099|   E36|      23017322|    Medical Incident|2023-02-05 00:00:00|2023-02-05 00:54:18|               null|GOLDEN GATE AV/HY...|San Francisco|            94102|         03|2023-02-04 00:00:00|2023-02-05 00:59:18|               null|\n",
      "| 230360245|   T04|      23017347|              Alarms|2023-02-05 00:00:00|2023-02-05 01:52:20|               null| 600 Block of 3RD ST|San Francisco|            94107|         08|2023-02-04 00:00:00|2023-02-05 01:54:54|               null|\n",
      "| 230360341|   RS2|      23017363|Train / Rail Inci...|2023-02-05 00:00:00|2023-02-05 02:42:54|2023-02-05 02:45:28|200 Block of MARK...|San Francisco|            94105|         13|2023-02-04 00:00:00|2023-02-05 02:45:28|2023-02-05 02:45:28|\n",
      "| 230360353|   RS1|      23017365|    Medical Incident|2023-02-05 00:00:00|2023-02-05 02:51:51|2023-02-05 02:56:40|100 Block of SHIP...|San Francisco|            94107|         01|2023-02-04 00:00:00|2023-02-05 02:54:27|2023-02-05 02:54:48|\n",
      "| 230360318|   T07|      23017362|   Traffic Collision|2023-02-05 00:00:00|2023-02-05 02:33:09|2023-02-05 02:39:29| HARRISON ST/23RD ST|San Francisco|            94110|         07|2023-02-04 00:00:00|2023-02-05 02:34:17|2023-02-05 02:36:10|\n",
      "| 230360318|   E11|      23017362|   Traffic Collision|2023-02-05 00:00:00|2023-02-05 02:33:09|               null| HARRISON ST/23RD ST|San Francisco|            94110|         07|2023-02-04 00:00:00|2023-02-05 02:34:17|2023-02-05 02:36:59|\n",
      "| 230360114|   E43|      23017325|        Vehicle Fire|2023-02-05 00:00:00|2023-02-05 00:59:29|2023-02-05 01:06:27|MISSION ST/GENEVA AV|San Francisco|            94112|         43|2023-02-04 00:00:00|2023-02-05 01:00:24|2023-02-05 01:03:38|\n",
      "| 230360359|    84|      23017367|    Medical Incident|2023-02-05 00:00:00|2023-02-05 02:57:54|               null|200 Block of GONZ...|San Francisco|            94132|         19|2023-02-04 00:00:00|2023-02-05 02:58:55|2023-02-05 02:59:50|\n",
      "| 230360208|    54|      23017339|   Traffic Collision|2023-02-05 00:00:00|2023-02-05 01:34:30|2023-02-05 01:43:22|OAKDALE AV/PHELPS ST|San Francisco|            94124|         42|2023-02-04 00:00:00|2023-02-05 01:35:02|2023-02-05 01:35:07|\n",
      "| 230360316| AM116|      23017361|    Medical Incident|2023-02-05 00:00:00|2023-02-05 02:31:53|2023-02-05 02:36:38|500 Block of SOUT...|San Francisco|            94110|         07|2023-02-04 00:00:00|2023-02-05 02:32:24|2023-02-05 02:33:14|\n",
      "| 230360300|   B03|      23017357|              Alarms|2023-02-05 00:00:00|2023-02-05 02:20:39|               null| 600 Block of 3RD ST|San Francisco|            94107|         08|2023-02-04 00:00:00|2023-02-05 02:22:36|               null|\n",
      "| 230360318|   B10|      23017362|   Traffic Collision|2023-02-05 00:00:00|2023-02-05 02:33:09|2023-02-05 02:40:46| HARRISON ST/23RD ST|San Francisco|            94110|         07|2023-02-04 00:00:00|2023-02-05 02:34:17|2023-02-05 02:37:27|\n",
      "| 230360130|    93|      23017328|    Medical Incident|2023-02-05 00:00:00|2023-02-05 01:07:20|2023-02-05 01:07:20|   OAK ST/WEBSTER ST|San Francisco|            94102|         05|2023-02-04 00:00:00|2023-02-05 01:07:20|2023-02-05 01:07:20|\n",
      "+----------+------+--------------+--------------------+-------------------+-------------------+-------------------+--------------------+-------------+-----------------+-----------+-------------------+-------------------+-------------------+\n",
      "only showing top 20 rows\n",
      "\n"
     ]
    }
   ],
   "source": [
    "spark.sql(\"select * from sf_fire_delta order by IncidentDate desc\").show()"
   ]
  },
  {
   "cell_type": "code",
   "execution_count": 31,
   "id": "4ba9efad-d3a6-43de-af11-55034b80d64b",
   "metadata": {},
   "outputs": [
    {
     "name": "stdout",
     "output_type": "stream",
     "text": [
      "+----------+------+--------------+----------------+-------------------+-------------------+-------------------+--------------------+-------------+-----------------+-----------+-----------+------------+------------+\n",
      "|CallNumber|UnitID|IncidentNumber|        CallType|       IncidentDate|       ReceivedDtTS|        OnSceneDtTS|             Address|         City|ZipcodeofIncident|StationArea|OnWatchDate|DispatchDtTS|ResponseDtTS|\n",
      "+----------+------+--------------+----------------+-------------------+-------------------+-------------------+--------------------+-------------+-----------------+-----------+-----------+------------+------------+\n",
      "| 190011241|  KM13|      19000164|Medical Incident|2019-01-01 00:00:00|2019-01-01 08:13:02|2019-01-01 08:20:32|800 Block of LEAV...|San Francisco|            94109|         41|       null|        null|        null|\n",
      "| 190010474|   E15|      19000060|Medical Incident|2019-01-01 00:00:00|2019-01-01 01:58:35|2019-01-01 02:05:00|0 Block of NIAGAR...|San Francisco|            94112|         15|       null|        null|        null|\n",
      "| 190010694|   B01|      19000094|          Alarms|2019-01-01 00:00:00|2019-01-01 03:02:11|2019-01-01 03:09:53|600 Block of SUTT...|San Francisco|            94102|         41|       null|        null|        null|\n",
      "| 190010198|  RA48|      19000022|Medical Incident|2019-01-01 00:00:00|2019-01-01 00:42:16|               null|0 Block of AVENUE...|Treasure Isla|            94130|         48|       null|        null|        null|\n",
      "| 190010633|   E38|      19000083|Medical Incident|2019-01-01 00:00:00|2019-01-01 02:42:51|2019-01-01 02:52:23|SUTTER ST/WEBSTER ST|San Francisco|            94115|         38|       null|        null|        null|\n",
      "| 190011407|   E36|      19000182|  Structure Fire|2019-01-01 00:00:00|2019-01-01 09:32:29|2019-01-01 09:36:51|   11TH ST/HOWARD ST|San Francisco|            94103|         36|       null|        null|        null|\n",
      "| 190012143|   B05|      19000260|  Structure Fire|2019-01-01 00:00:00|2019-01-01 13:45:44|               null|1800 Block of DIV...|San Francisco|            94115|         10|       null|        null|        null|\n",
      "| 190010050|   B08|      19000005|    Outside Fire|2019-01-01 00:00:00|2019-01-01 00:07:30|2019-01-01 00:14:26|100 Block of ROBI...|San Francisco|            94127|         39|       null|        null|        null|\n",
      "| 190011525|    63|      19000192|Medical Incident|2019-01-01 00:00:00|2019-01-01 10:17:06|2019-01-01 10:23:15| 100 Block of 6TH ST|San Francisco|            94103|         01|       null|        null|        null|\n",
      "| 190011345|   E06|      19000175|Medical Incident|2019-01-01 00:00:00|2019-01-01 09:06:09|               null|100 Block of PIER...|San Francisco|            94117|         06|       null|        null|        null|\n",
      "| 190011806|   E38|      19000226|          Alarms|2019-01-01 00:00:00|2019-01-01 12:05:45|2019-01-01 12:14:15|1700 Block of OFA...|San Francisco|            94115|         05|       null|        null|        null|\n",
      "| 190011604|   E35|      19000201|          Alarms|2019-01-01 00:00:00|2019-01-01 10:52:11|2019-01-01 10:57:52|300 Block of FREM...|San Francisco|            94105|         35|       null|        null|        null|\n",
      "| 190010166|   T10|      19000018|          Alarms|2019-01-01 00:00:00|2019-01-01 00:32:38|2019-01-01 00:40:24|400 Block of 5TH AVE|San Francisco|            94118|         31|       null|        null|        null|\n",
      "| 190011631|    57|      19000205|Medical Incident|2019-01-01 00:00:00|2019-01-01 11:05:51|2019-01-01 11:12:49|3500 Block of GEA...|San Francisco|            94118|         10|       null|        null|        null|\n",
      "| 190011791|  QRV2|      19000222|Medical Incident|2019-01-01 00:00:00|2019-01-01 12:02:16|2019-01-01 12:05:01|700 Block of EDDY ST|San Francisco|            94102|         03|       null|        null|        null|\n",
      "| 190011736|  QRV2|      19000216|Medical Incident|2019-01-01 00:00:00|2019-01-01 11:43:29|2019-01-01 11:48:35|400 Block of ELLI...|San Francisco|            94102|         03|       null|        null|        null|\n",
      "| 190011907|   E11|      19000245|Medical Incident|2019-01-01 00:00:00|2019-01-01 12:33:56|2019-01-01 12:42:39|CESAR CHAVEZ ST/S...|San Francisco|            94110|         11|       null|        null|        null|\n",
      "| 190010331|  KM04|      19000040|Medical Incident|2019-01-01 00:00:00|2019-01-01 01:17:58|2019-01-01 01:28:37|  BROADWAY/KEARNY ST|San Francisco|            94133|         02|       null|        null|        null|\n",
      "| 190010920|  QRV2|      19000119|Medical Incident|2019-01-01 00:00:00|2019-01-01 04:59:21|2019-01-01 05:08:35|1500 Block of SUT...|San Francisco|            94109|         38|       null|        null|        null|\n",
      "| 190011087|   B01|      19000142|          Alarms|2019-01-01 00:00:00|2019-01-01 06:44:19|2019-01-01 06:54:02|0 Block of MACART...|   Fort Mason|            94123|         16|       null|        null|        null|\n",
      "+----------+------+--------------+----------------+-------------------+-------------------+-------------------+--------------------+-------------+-----------------+-----------+-----------+------------+------------+\n",
      "only showing top 20 rows\n",
      "\n"
     ]
    }
   ],
   "source": [
    "spark.sql(\"select * from sf_fire_delta order by IncidentDate asc\").show()"
   ]
  },
  {
   "cell_type": "code",
   "execution_count": 32,
   "id": "e1e40824-2c94-45c1-84e7-77dc52bfb3d0",
   "metadata": {},
   "outputs": [],
   "source": [
    "from delta.tables import *"
   ]
  },
  {
   "cell_type": "code",
   "execution_count": 34,
   "id": "8af6d9b4-a8ca-465d-83a3-badc99e04ca9",
   "metadata": {},
   "outputs": [],
   "source": [
    "deltaTable = DeltaTable.forPath(spark, \"./sf-fire-delta\")"
   ]
  },
  {
   "cell_type": "code",
   "execution_count": 37,
   "id": "614664e6-ddc2-4fd5-94e0-bae6764c874a",
   "metadata": {},
   "outputs": [],
   "source": [
    "deltaTable.update(\"IncidentNumber = 19000164\", {\"IncidentNumber\": \"19000165\"})"
   ]
  },
  {
   "cell_type": "code",
   "execution_count": 40,
   "id": "f070984d-588b-4979-935c-30822a61d945",
   "metadata": {},
   "outputs": [
    {
     "name": "stdout",
     "output_type": "stream",
     "text": [
      "+----------+------+--------------+----------------+-------------------+-------------------+-------------------+--------------------+-------------+-----------------+-----------+-----------+------------+------------+\n",
      "|CallNumber|UnitID|IncidentNumber|        CallType|       IncidentDate|       ReceivedDtTS|        OnSceneDtTS|             Address|         City|ZipcodeofIncident|StationArea|OnWatchDate|DispatchDtTS|ResponseDtTS|\n",
      "+----------+------+--------------+----------------+-------------------+-------------------+-------------------+--------------------+-------------+-----------------+-----------+-----------+------------+------------+\n",
      "| 190011736|  QRV2|      19000216|Medical Incident|2019-01-01 00:00:00|2019-01-01 11:43:29|2019-01-01 11:48:35|400 Block of ELLI...|San Francisco|            94102|         03|       null|        null|        null|\n",
      "+----------+------+--------------+----------------+-------------------+-------------------+-------------------+--------------------+-------------+-----------------+-----------+-----------+------------+------------+\n",
      "only showing top 1 row\n",
      "\n"
     ]
    }
   ],
   "source": [
    "spark.sql(\"select * from sf_fire_delta order by IncidentDate asc\").show(1)"
   ]
  },
  {
   "cell_type": "code",
   "execution_count": 39,
   "id": "0b8ce10c-dec4-4d0c-8e5a-8fc36c46a624",
   "metadata": {},
   "outputs": [],
   "source": [
    "deltaTable.delete(\"IncidentNumber = 19000165\")"
   ]
  },
  {
   "cell_type": "code",
   "execution_count": 42,
   "id": "0dfa6ca7-e73f-4eb0-bebe-ed85d59b9ac8",
   "metadata": {},
   "outputs": [
    {
     "name": "stdout",
     "output_type": "stream",
     "text": [
      "+----------+------+--------------+----------------+-------------------+-------------------+-------------------+--------------------+-------------+-----------------+-----------+-----------+------------+------------+\n",
      "|CallNumber|UnitID|IncidentNumber|        CallType|       IncidentDate|       ReceivedDtTS|        OnSceneDtTS|             Address|         City|ZipcodeofIncident|StationArea|OnWatchDate|DispatchDtTS|ResponseDtTS|\n",
      "+----------+------+--------------+----------------+-------------------+-------------------+-------------------+--------------------+-------------+-----------------+-----------+-----------+------------+------------+\n",
      "| 190011736|  QRV2|      19000216|Medical Incident|2019-01-01 00:00:00|2019-01-01 11:43:29|2019-01-01 11:48:35|400 Block of ELLI...|San Francisco|            94102|         03|       null|        null|        null|\n",
      "+----------+------+--------------+----------------+-------------------+-------------------+-------------------+--------------------+-------------+-----------------+-----------+-----------+------------+------------+\n",
      "only showing top 1 row\n",
      "\n"
     ]
    }
   ],
   "source": [
    "spark.sql(\"select * from sf_fire_delta order by IncidentDate asc\").show(1)"
   ]
  },
  {
   "cell_type": "code",
   "execution_count": null,
   "id": "3d0fb016-e85d-4d3f-afc7-3d7cddfd51b9",
   "metadata": {},
   "outputs": [],
   "source": [
    "#upserting"
   ]
  }
 ],
 "metadata": {
  "kernelspec": {
   "display_name": "Python 3 (ipykernel)",
   "language": "python",
   "name": "python3"
  },
  "language_info": {
   "codemirror_mode": {
    "name": "ipython",
    "version": 3
   },
   "file_extension": ".py",
   "mimetype": "text/x-python",
   "name": "python",
   "nbconvert_exporter": "python",
   "pygments_lexer": "ipython3",
   "version": "3.8.16"
  }
 },
 "nbformat": 4,
 "nbformat_minor": 5
}
